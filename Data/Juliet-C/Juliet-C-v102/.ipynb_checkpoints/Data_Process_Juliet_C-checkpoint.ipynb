{
 "cells": [
  {
   "cell_type": "code",
   "execution_count": 1,
   "metadata": {},
   "outputs": [],
   "source": [
    "import time\n",
    "import matplotlib.pyplot as plt\n",
    "import random"
   ]
  },
  {
   "cell_type": "code",
   "execution_count": 2,
   "metadata": {},
   "outputs": [],
   "source": [
    "file_list = open('index.txt', 'r').read().split('\\n')[:-1]\n",
    "file_list = [file[6:] for file in file_list]"
   ]
  },
  {
   "cell_type": "code",
   "execution_count": 32,
   "metadata": {},
   "outputs": [],
   "source": [
    "def deletecomment(string):\n",
    "    if '/*' not in string:\n",
    "        return string\n",
    "    comment_start = string.find('/*')\n",
    "    comment_end = string.find('*/')\n",
    "    return deletecomment(string[:comment_start] + string[comment_end + 2:])\n",
    "\n",
    "def findline(lines, target_string, num_line = 0):\n",
    "    if num_line == len(lines):\n",
    "        return -1\n",
    "    if target_string in lines[num_line]:\n",
    "        return num_line\n",
    "    else:\n",
    "        return findline(lines, target_string, num_line + 1)\n",
    "    \n",
    "def findfunctionend(lines, count, num_line, flag = False):\n",
    "    count += lines[num_line].count('{')\n",
    "    count -= lines[num_line].count('}')\n",
    "    if count > 0 and flag == False:\n",
    "        flag = True\n",
    "    if count == 0 and flag:\n",
    "        return num_line\n",
    "    return findfunctionend(lines, count, num_line + 1, flag)\n",
    "\n",
    "def extractfunction(lines, start_line):\n",
    "    end_line = findfunctionend(lines, 0, start_line)\n",
    "    return lines[start_line : end_line + 1]\n",
    "\n",
    "def replacefilename(function, file_name):\n",
    "    return function.replace(file_name + '_', '')\n",
    "\n",
    "def cleanupfunction(function):\n",
    "    function = [line.lstrip() for line in function]\n",
    "    function = [line for line in function if len(line) > 0 and line[0] != '#']\n",
    "    function = ''.join(function)\n",
    "    signs = ['=', '+', '-', '/', '!=', '==', '&&', '||']\n",
    "    for sign in signs:\n",
    "        function = function.replace(' ' + sign + ' ', sign)\n",
    "    function = function.replace('if ', 'if')\n",
    "    function = function.replace(' (', '(')\n",
    "    function = function.replace(' )', ')')\n",
    "    function = function.replace(', ', ',')\n",
    "    function = function.replace(' }', '}')\n",
    "    \n",
    "    return function\n",
    "\n",
    "def includehelper(lines, start_line, concatfunction, file_name):\n",
    "    helper = extractfunction(lines, start_line)\n",
    "    helper = cleanupfunction(helper)\n",
    "    helper = replacefilename(helper, file_name)\n",
    "    helper = helper + concatfunction\n",
    "    return helper\n",
    "\n",
    "def findallline(lines, target_string, current_line = 0, num_lines = []):\n",
    "    if current_line == len(lines):\n",
    "        return num_lines\n",
    "    if target_string in lines[current_line]:\n",
    "        num_lines.append(current_line)\n",
    "    return findallline(lines, target_string, current_line + 1, num_lines)\n",
    "\n",
    "def case1(f, good_start, file_name):\n",
    "    #case when there is a function of \"public void good\"\n",
    "    good_list = extractfunction(f, good_start)[2: -1]\n",
    "    if len(good_list) > 0:\n",
    "        good_name = []\n",
    "        for line in good_list:\n",
    "            name_end = line.find(';')\n",
    "            name_start = line.find('g')\n",
    "            good_name.append(line[name_start:name_end])\n",
    "        good_funcs = []\n",
    "        for name in good_name:\n",
    "            start = findline(f, 'static void ' + name)\n",
    "            func = extractfunction(f, start)\n",
    "            func = cleanupfunction(func)\n",
    "            func = replacefilename(func, file_name)\n",
    "            if func[:7] == 'static ':\n",
    "                func = func[7:]\n",
    "            good_helper = findline(f, ' helper_good(')\n",
    "            if good_helper > 0:\n",
    "                func = includehelper(f, good_helper, func, file_name)\n",
    "            good_helper = findline(f, ' helper_' + name[:-2] + '(')\n",
    "            if good_helper > 0:\n",
    "                func = includehelper(f, good_helper, func, file_name)\n",
    "            func = func.replace(name[:-2], 'F')\n",
    "            good_funcs.append(func)\n",
    "        return good_funcs"
   ]
  },
  {
   "cell_type": "code",
   "execution_count": 69,
   "metadata": {},
   "outputs": [
    {
     "data": {
      "text/plain": [
       "'CWE114_Process_Control__w32_char_connect_socket_01'"
      ]
     },
     "execution_count": 69,
     "metadata": {},
     "output_type": "execute_result"
    }
   ],
   "source": [
    "file_list[0].split('/')[-1].split('.')[0]"
   ]
  },
  {
   "cell_type": "code",
   "execution_count": 39,
   "metadata": {},
   "outputs": [
    {
     "name": "stdout",
     "output_type": "stream",
     "text": [
      "now processing [62952/62953]\n",
      "time elapsed 60.62\n",
      "good files: [36307/62953]\n",
      "number of pairs: 59220\n"
     ]
    },
    {
     "data": {
      "text/plain": [
       "'\\nsrc_file.close()\\ntgt_file.close()\\nsrc_train.close()\\ntgt_train.close()\\nsrc_test.close()\\ntgt_test.close()\\nsrc_val.close()\\ntgt_val.close()\\n'"
      ]
     },
     "execution_count": 39,
     "metadata": {},
     "output_type": "execute_result"
    }
   ],
   "source": [
    "src_file = open('src.txt', 'w+')\n",
    "tgt_file = open('tgt.txt', 'w+')\n",
    "src_train = open('src_train.txt', 'w+')\n",
    "tgt_train = open('tgt_train.txt', 'w+')\n",
    "src_test = open('src_test.txt', 'w+')\n",
    "tgt_test = open('tgt_test.txt', 'w+')\n",
    "src_val = open('src_val.txt', 'w+')\n",
    "tgt_val = open('tgt_val.txt', 'w+')\n",
    "didn_change = open('index_didn_change.txt', 'w+')\n",
    "train_idx = open('train_index.txt', 'w+')\n",
    "test_idx = open('test_index.txt', 'w+')\n",
    "val_idx = open('val_index.txt', 'w+')\n",
    "pairs = 0\n",
    "good_files = 0\n",
    "src_lengths = []\n",
    "tgt_lengths = []\n",
    "start_time = time.time()\n",
    "for i in range(len(file_list)):\n",
    "#for i in range(10):\n",
    "    if file_list[i].split('.')[-1] == 'c':\n",
    "        c = True\n",
    "    else:\n",
    "        c = False\n",
    "    print('now processing [%d/%d]'%(i, len(file_list)), end = '\\r')\n",
    "    file = open(file_list[i], 'r')\n",
    "    file_name = file_list[i].split('/')[-1].split('.')[0]\n",
    "    f = file.read()\n",
    "    f = deletecomment(f)\n",
    "    f = f.split('\\n')\n",
    "    if c:\n",
    "        bad_string = ' ' + file_list[i].split('.')[0].split('/')[-1] + '_bad('\n",
    "        good_string = ' ' + file_list[i].split('.')[0].split('/')[-1] + '_good('\n",
    "    else:\n",
    "        bad_string = ' ' + 'bad('\n",
    "        good_string = ' ' + 'good('\n",
    "    bad_start = findline(f, bad_string)\n",
    "    good_start = findline(f, good_string)\n",
    "    if bad_start > 0:\n",
    "        bad_function = extractfunction(f, bad_start)\n",
    "        bad_function = cleanupfunction(bad_function)\n",
    "        bad_function = replacefilename(bad_function, file_name)\n",
    "        bad_helper = findline(f, ' helper_bad(')\n",
    "        if bad_helper > 0:\n",
    "            bad_function = includehelper(f, bad_helper, bad_function, file_name)\n",
    "        \n",
    "        bad_function = bad_function.replace('bad', 'F')\n",
    "        if good_start > 0:\n",
    "            good_files += 1\n",
    "            good_cleaned = case1(f, good_start, file_name)\n",
    "            if good_cleaned == None:\n",
    "                0 == 0\n",
    "            else:\n",
    "                ins = toWordLevel(bad_function)\n",
    "                if len(bad_function) < 600 and len(ins) < 304:\n",
    "                    rnd = random.random()\n",
    "                    for j in range(len(good_cleaned)):\n",
    "                        ins = toWordLevel(good_cleaned[j])\n",
    "                        if len(good_cleaned[j]) < 600 and len(ins) < 304:\n",
    "                            rnd2 = random.random()\n",
    "                            if rnd2 < 0.3:\n",
    "                                bad_function2 = good_cleaned[j]\n",
    "                                print(pairs, file = didn_change)\n",
    "                            else:\n",
    "                                bad_function2 = bad_function\n",
    "                            print(bad_function, file = src_file)\n",
    "                            print(good_cleaned[j], file = tgt_file)\n",
    "                            if rnd < 0.9:\n",
    "                                print(bad_function2, file = src_train)\n",
    "                                print(good_cleaned[j], file = tgt_train)\n",
    "                                print(pairs, file = train_idx)\n",
    "                            elif rnd >= 0.9 and rnd < 0.95:\n",
    "                                print(bad_function2, file = src_test)\n",
    "                                print(good_cleaned[j], file = tgt_test)\n",
    "                                print(pairs, file = test_idx)\n",
    "                            else:\n",
    "                                print(bad_function2, file = src_val)\n",
    "                                print(good_cleaned[j], file = tgt_val)\n",
    "                                print(pairs, file = val_idx)\n",
    "                            pairs += 1\n",
    "    file.close()\n",
    "print()\n",
    "print('time elapsed %.2f'%(time.time() - start_time))\n",
    "print('good files: [%d/%d]'%(good_files, len(file_list)))\n",
    "print('number of pairs: %d'%pairs)\n",
    "'''\n",
    "src_file.close()\n",
    "tgt_file.close()\n",
    "src_train.close()\n",
    "tgt_train.close()\n",
    "src_test.close()\n",
    "tgt_test.close()\n",
    "src_val.close()\n",
    "tgt_val.close()\n",
    "'''"
   ]
  },
  {
   "cell_type": "code",
   "execution_count": 81,
   "metadata": {},
   "outputs": [
    {
     "data": {
      "image/png": "[encoded data removed]",
      "text/plain": [
       "<Figure size 432x288 with 1 Axes>"
      ]
     },
     "metadata": {
      "needs_background": "light"
     },
     "output_type": "display_data"
    },
    {
     "data": {
      "image/png": "[encoded data removed]",
      "text/plain": [
       "<Figure size 432x288 with 1 Axes>"
      ]
     },
     "metadata": {
      "needs_background": "light"
     },
     "output_type": "display_data"
    }
   ],
   "source": [
    "plt.hist(src_lengths, bins = 100)\n",
    "plt.xlim(0,2000)\n",
    "plt.show()\n",
    "plt.hist(tgt_lengths, bins = 100)\n",
    "plt.xlim(0,2000)\n",
    "plt.show()"
   ]
  },
  {
   "cell_type": "code",
   "execution_count": 38,
   "metadata": {},
   "outputs": [],
   "source": [
    "def toWordLevel(instance):\n",
    "    instance = ' '.join(instance.split())\n",
    "    parser_list_lv1 = ['==', '!=', '&&', '||', '<=', '>=', '__', '>>']\n",
    "    parser_list_lv2 = ['!', ';', '=', '+', '-', '&', '%', '*', ':', '.', '|', '/', '(', ')', '{', '}', '[', ']', '<', '>', '\\'', '\\\"', ',', '_', ' ']\n",
    "    \n",
    "    parselv1 = []\n",
    "    while len(instance) > 2:\n",
    "        i = 0\n",
    "        while True:\n",
    "            if instance[i:i+2] in parser_list_lv1:\n",
    "                if i != 0:\n",
    "                    parselv1.append(instance[:i])\n",
    "                parselv1.append(instance[i:i+2])\n",
    "                instance = instance[i+2:]\n",
    "                break\n",
    "            if i == len(instance):\n",
    "                parselv1.append(instance)\n",
    "                instance = ''\n",
    "                break\n",
    "            i += 1\n",
    "    parselv2 = []\n",
    "    for st in parselv1:\n",
    "        if st not in parser_list_lv1:\n",
    "            while len(st) > 0:\n",
    "                i = 0\n",
    "                while True:\n",
    "                    if i == len(st):\n",
    "                        parselv2.append(st)\n",
    "                        st = ''\n",
    "                        break\n",
    "                    if st[i] in parser_list_lv2:\n",
    "                        if i != 0:\n",
    "                            parselv2.append(st[:i])\n",
    "                        parselv2.append(st[i])\n",
    "                        st = st[i+1:]\n",
    "                        break\n",
    "                    i += 1\n",
    "        else:\n",
    "            parselv2.append(st)\n",
    "    return parselv2"
   ]
  },
  {
   "cell_type": "code",
   "execution_count": 100,
   "metadata": {},
   "outputs": [
    {
     "name": "stdout",
     "output_type": "stream",
     "text": [
      "[85803/85804]\r"
     ]
    },
    {
     "data": {
      "image/png": "[encoded data removed]",
      "text/plain": [
       "<Figure size 432x288 with 1 Axes>"
      ]
     },
     "metadata": {
      "needs_background": "light"
     },
     "output_type": "display_data"
    },
    {
     "data": {
      "image/png": "[encoded data removed]",
      "text/plain": [
       "<Figure size 432x288 with 1 Axes>"
      ]
     },
     "metadata": {
      "needs_background": "light"
     },
     "output_type": "display_data"
    },
    {
     "data": {
      "image/png": "[encoded data removed]",
      "text/plain": [
       "<Figure size 432x288 with 1 Axes>"
      ]
     },
     "metadata": {
      "needs_background": "light"
     },
     "output_type": "display_data"
    },
    {
     "data": {
      "image/png": "[encoded data removed]",
      "text/plain": [
       "<Figure size 432x288 with 1 Axes>"
      ]
     },
     "metadata": {
      "needs_background": "light"
     },
     "output_type": "display_data"
    }
   ],
   "source": [
    "src = open('src.txt', 'r').read().split('\\n')[:-1]\n",
    "src_char_lengths = []\n",
    "src_lengths = []\n",
    "for i in range(len(src)):\n",
    "    print('[%d/%d]'%(i, len(src)), end = '\\r')\n",
    "    src_char_lengths.append(len(src[i]))\n",
    "    ins = toWordLevel(src[i])\n",
    "    src_lengths.append(len(ins))\n",
    "tgt = open('tgt.txt', 'r').read().split('\\n')[:-1]\n",
    "tgt_char_lengths = []\n",
    "tgt_lengths = []\n",
    "for i in range(len(tgt)):\n",
    "    print('[%d/%d]'%(i, len(tgt)), end = '\\r')\n",
    "    tgt_char_lengths.append(len(tgt[i]))\n",
    "    ins = toWordLevel(tgt[i])\n",
    "    tgt_lengths.append(len(ins))\n",
    "plt.hist(src_char_lengths, bins = 100)\n",
    "plt.show()\n",
    "plt.hist(tgt_char_lengths, bins = 100)\n",
    "plt.show()\n",
    "plt.hist(src_lengths, bins = 100)\n",
    "plt.show()\n",
    "plt.hist(tgt_lengths, bins = 100)\n",
    "\n",
    "plt.show()"
   ]
  },
  {
   "cell_type": "code",
   "execution_count": 101,
   "metadata": {},
   "outputs": [
    {
     "data": {
      "image/png": "[encoded data removed]",
      "text/plain": [
       "<Figure size 432x288 with 1 Axes>"
      ]
     },
     "metadata": {
      "needs_background": "light"
     },
     "output_type": "display_data"
    },
    {
     "data": {
      "image/png": "[encoded data removed]",
      "text/plain": [
       "<Figure size 432x288 with 1 Axes>"
      ]
     },
     "metadata": {
      "needs_background": "light"
     },
     "output_type": "display_data"
    }
   ],
   "source": [
    "s_filtered_length = []\n",
    "t_filtered_length = []\n",
    "\n",
    "for i in range(len(src)):\n",
    "    if len(src[i]) < 500 and len(tgt[i]) < 500:\n",
    "        ins = toWordLevel(src[i])\n",
    "        s_filtered_length.append(len(ins))\n",
    "        ins = toWordLevel(tgt[i])\n",
    "        t_filtered_length.append(len(ins))\n",
    "        \n",
    "plt.hist(s_filtered_length, bins = 100)\n",
    "plt.show()\n",
    "plt.hist(t_filtered_length, bins = 100)\n",
    "plt.show()"
   ]
  },
  {
   "cell_type": "code",
   "execution_count": 103,
   "metadata": {},
   "outputs": [
    {
     "name": "stdout",
     "output_type": "stream",
     "text": [
      "66277 66277\n"
     ]
    }
   ],
   "source": [
    "print(len(s_filtered_length), len(t_filtered_length))"
   ]
  },
  {
   "cell_type": "code",
   "execution_count": 112,
   "metadata": {},
   "outputs": [
    {
     "name": "stdout",
     "output_type": "stream",
     "text": [
      "70238\n"
     ]
    },
    {
     "data": {
      "image/png": "[encoded data removed]",
      "text/plain": [
       "<Figure size 432x288 with 1 Axes>"
      ]
     },
     "metadata": {
      "needs_background": "light"
     },
     "output_type": "display_data"
    },
    {
     "data": {
      "image/png": "[encoded data removed]",
      "text/plain": [
       "<Figure size 432x288 with 1 Axes>"
      ]
     },
     "metadata": {
      "needs_background": "light"
     },
     "output_type": "display_data"
    },
    {
     "data": {
      "image/png": "[encoded data removed]",
      "text/plain": [
       "<Figure size 432x288 with 1 Axes>"
      ]
     },
     "metadata": {
      "needs_background": "light"
     },
     "output_type": "display_data"
    },
    {
     "data": {
      "image/png": "[encoded data removed]",
      "text/plain": [
       "<Figure size 432x288 with 1 Axes>"
      ]
     },
     "metadata": {
      "needs_background": "light"
     },
     "output_type": "display_data"
    }
   ],
   "source": [
    "src = open('src.txt', 'r').read().split('\\n')[:-1]\n",
    "tgt = open('tgt.txt', 'r').read().split('\\n')[:-1]\n",
    "src_file = open('scr_600.txt', 'w+')\n",
    "tgt_file = open('tgt_600.txt', 'w+')\n",
    "\n",
    "s_filtered_length = []\n",
    "t_filtered_length = []\n",
    "\n",
    "sfl = []\n",
    "tfl = []\n",
    "count = 0\n",
    "for i in range(len(src)):\n",
    "    if len(src[i]) < 600 and len(tgt[i]) < 600:\n",
    "        count += 1\n",
    "        print(src[i], file = src_file)\n",
    "        print(tgt[i], file = tgt_file)\n",
    "        s_filtered_length.append(len(src[i]))\n",
    "        t_filtered_length.append(len(tgt[i]))\n",
    "        \n",
    "        ins = toWordLevel(src[i])\n",
    "        ins_2 = toWordLevel(tgt[i])\n",
    "        sfl.append(len(ins))\n",
    "        tfl.append(len(ins_2))\n",
    "print(count)\n",
    "src_file.close()\n",
    "tgt_file.close()\n",
    "\n",
    "plt.hist(s_filtered_length, bins = 100)\n",
    "plt.show()\n",
    "plt.hist(t_filtered_length, bins = 100)\n",
    "plt.show()\n",
    "\n",
    "plt.hist(sfl, bins = 100)\n",
    "plt.show()\n",
    "plt.hist(tfl, bins = 100)\n",
    "plt.show()"
   ]
  },
  {
   "cell_type": "code",
   "execution_count": 10,
   "metadata": {},
   "outputs": [
    {
     "name": "stdout",
     "output_type": "stream",
     "text": [
      "8384\n"
     ]
    }
   ],
   "source": [
    "#Deal with ones with different parts\n",
    "two_parts = []\n",
    "for i in range(len(file_list) - 2):\n",
    "    char = file_list[i].split('/')[-1].split('.')[0][-1]\n",
    "    char_2 = file_list[i + 1].split('/')[-1].split('.')[0][-1]\n",
    "    char_3 = file_list[i + 2].split('/')[-1].split('.')[0][-1]\n",
    "    if char == 'a' and char_2 == 'b' and char_3 != 'c':\n",
    "        two_parts.append([file_list[i], file_list[i+1]])\n",
    "print(len(two_parts))"
   ]
  },
  {
   "cell_type": "code",
   "execution_count": 40,
   "metadata": {},
   "outputs": [
    {
     "name": "stdout",
     "output_type": "stream",
     "text": [
      "now processing [8383/8384]\n",
      "time elapsed 12.78\n",
      "good files: [8384/8384]\n",
      "number of pairs: 70391\n"
     ]
    }
   ],
   "source": [
    "count = 0\n",
    "'''\n",
    "src_file = open('src_multi.txt', 'w+')\n",
    "tgt_file = open('tgt_multi.txt', 'w+')\n",
    "\n",
    "src_train = open('src_train_multi.txt', 'w+')\n",
    "tgt_train = open('tgt_train_multi.txt', 'w+')\n",
    "src_test = open('src_test_multi.txt', 'w+')\n",
    "tgt_test = open('tgt_test_multi.txt', 'w+')\n",
    "src_val = open('src_val_multi.txt', 'w+')\n",
    "tgt_val = open('tgt_val_multi.txt', 'w+')\n",
    "didn_change = open('index_didnt_change2.txt', 'w+')\n",
    "'''\n",
    "good_files = 0\n",
    "src_lengths = []\n",
    "tgt_lengths = []\n",
    "start_time = time.time()\n",
    "\n",
    "for i in range(len(two_parts)):\n",
    "    good_files += 1\n",
    "    print('now processing [%d/%d]'%(i, len(two_parts)), end = '\\r')\n",
    "    file_a = open(two_parts[i][0], 'r')\n",
    "    file_name_a = two_parts[i][0].split('/')[-1].split('.')[0]\n",
    "    f_a = file_a.read()\n",
    "    f_a = deletecomment(f_a)\n",
    "    f_a = f_a.split('\\n')\n",
    "    \n",
    "    file_b = open(two_parts[i][1], 'r')\n",
    "    file_name_b = two_parts[i][1].split('/')[-1].split('.')[0]\n",
    "    f_b = file_b.read()\n",
    "    f_b = deletecomment(f_b)\n",
    "    f_b = f_b.split('\\n')\n",
    "    \n",
    "    if two_parts[i][0].split('.')[-1] == 'c':\n",
    "        c = True\n",
    "    else:\n",
    "        c = False\n",
    "    if c:\n",
    "        bad_string = ' ' + two_parts[i][0].split('.')[0].split('/')[-1][:-1] + '_bad('\n",
    "        good_string = ' ' + two_parts[i][0].split('.')[0].split('/')[-1][:-1] + '_good('\n",
    "        bad_sink_str = ' ' + two_parts[i][1].split('.')[0].split('/')[-1] + '_bad_s'\n",
    "    else:\n",
    "        bad_string = ' bad('\n",
    "        good_string = ' good('\n",
    "        bad_sink_str = ' bad_s'\n",
    "        \n",
    "    bad_start = findline(f_a, bad_string)\n",
    "    bad_sink_start = findline(f_b, bad_sink_str)\n",
    "    \n",
    "    if bad_start > 0:\n",
    "        a_part_bad = extractfunction(f_a, bad_start)\n",
    "        a_part_bad = cleanupfunction(a_part_bad)\n",
    "        a_part_bad = replacefilename(a_part_bad, file_name_a[:-1])\n",
    "        a_part_bad = replacefilename(a_part_bad, file_name_b)\n",
    "    \n",
    "    if bad_sink_start > 0:\n",
    "        b_part_bad = extractfunction(f_b, bad_sink_start)\n",
    "        b_part_bad = cleanupfunction(b_part_bad)\n",
    "        b_part_bad = replacefilename(b_part_bad, file_name_b)\n",
    "    \n",
    "    bad_function = b_part_bad + a_part_bad\n",
    "    bad_function = bad_function.replace('bad', 'F')\n",
    "    \n",
    "    good_start = findline(f_a, good_string) + 1\n",
    "    good_list = extractfunction(f_a, good_start)[1: -1]\n",
    "    good_name = []\n",
    "    for line in good_list:\n",
    "        name_end = line.find(';')\n",
    "        name_start = line.find('g')\n",
    "        good_name.append(line[name_start:name_end])\n",
    "    good_funcs = []\n",
    "    for name in good_name:\n",
    "        good_start = findline(f_a, 'static void ' + name)\n",
    "        a_part_good = extractfunction(f_a, good_start)\n",
    "        a_part_good = cleanupfunction(a_part_good)\n",
    "        a_part_good = replacefilename(a_part_good, file_name_a[:-1])\n",
    "        a_part_good = replacefilename(a_part_good, file_name_b)\n",
    "        if a_part_good[:7] == 'static ':\n",
    "            a_part_good = a_part_good[7:]\n",
    "        \n",
    "        if c:\n",
    "            good_sink_str = ' ' + two_parts[i][1].split('.')[0].split('/')[-1] + '_' + name +'_s'\n",
    "        else:\n",
    "            good_sink_str = ' ' + name + '_s'\n",
    "        \n",
    "        good_sink_start = findline(f_b, good_sink_str) + 1\n",
    "        b_part_good = extractfunction(f_b, good_sink_start)\n",
    "        b_part_good = cleanupfunction(b_part_good)\n",
    "        b_part_good = replacefilename(b_part_good, file_name_b)\n",
    "        func = (b_part_good + a_part_good)\n",
    "        func = func.replace(name[:-2], 'F')\n",
    "        good_funcs.append(func)\n",
    "        if good_funcs == None:\n",
    "                0 == 0\n",
    "        else:\n",
    "            rnd = random.random()\n",
    "            ins = toWordLevel(bad_function)\n",
    "            if len(ins) < 304 and len(bad_function) < 600:\n",
    "                for j in range(len(good_funcs)):\n",
    "                    ins = toWordLevel(good_funcs[j])\n",
    "                    if len(ins) < 304 and len(good_funcs[j]) < 600:\n",
    "                        rnd2 = random.random()\n",
    "                        if rnd2 < 0.3:\n",
    "                            bad_function2 = good_funcs[j]\n",
    "                            print(pairs, file = didn_change)\n",
    "                        else:\n",
    "                            bad_function2 = bad_function\n",
    "                        print(bad_function, file = src_file)\n",
    "                        print(good_funcs[j], file = tgt_file)\n",
    "                        if rnd < 0.9:\n",
    "                            print(bad_function2, file = src_train)\n",
    "                            print(good_funcs[j], file = tgt_train)\n",
    "                            print(pairs, file = train_index)\n",
    "                        elif rnd >= 0.9 and rnd < 0.95:\n",
    "                            print(bad_function2, file = src_test)\n",
    "                            print(good_funcs[j], file = tgt_test)\n",
    "                            print(pairs, file = test_index)\n",
    "                        else:\n",
    "                            print(bad_function2, file = src_val)\n",
    "                            print(good_funcs[j], file = tgt_val)\n",
    "                            print(pairs, file = val_index)\n",
    "                        pairs += 1\n",
    "    file_a.close()\n",
    "    file_b.close()\n",
    "print()\n",
    "print('time elapsed %.2f'%(time.time() - start_time))\n",
    "print('good files: [%d/%d]'%(good_files, len(two_parts)))\n",
    "print('number of pairs: %d'%pairs)\n",
    "src_file.close()\n",
    "tgt_file.close()\n",
    "\n",
    "src_train.close()\n",
    "tgt_train.close()\n",
    "src_test.close()\n",
    "tgt_test.close()\n",
    "src_val.close()\n",
    "tgt_val.close()"
   ]
  },
  {
   "cell_type": "code",
   "execution_count": null,
   "metadata": {},
   "outputs": [],
   "source": []
  },
  {
   "cell_type": "code",
   "execution_count": 114,
   "metadata": {},
   "outputs": [],
   "source": [
    "import random\n",
    "src = open('src_600.txt', 'r').read().split('\\n')[:-1]\n",
    "tgt = open('tgt_600.txt', 'r').read().split('\\n')[:-1]\n",
    "src_train = open('src_train.txt', 'w+')\n",
    "tgt_train = open('tgt_train.txt', 'w+')\n",
    "src_test = open('src_test.txt', 'w+')\n",
    "tgt_test = open('tgt_test.txt', 'w+')\n",
    "src_val = open('src_val.txt', 'w+')\n",
    "tgt_val = open('tgt_val.txt', 'w+')\n",
    "\n",
    "for i in range(len(src)):\n",
    "    rnd = random.random()\n",
    "    if rnd < 0.9:\n",
    "        print(src[i], file = src_train)\n",
    "        print(tgt[i], file = tgt_train)\n",
    "    elif rnd >= 0.9 and rnd < 0.95:\n",
    "        print(src[i], file = src_test)\n",
    "        print(tgt[i], file = tgt_test)\n",
    "    else:\n",
    "        print(src[i], file = src_val)\n",
    "        print(tgt[i], file = tgt_val)\n",
    "        \n",
    "src_train.close()\n",
    "tgt_train.close()\n",
    "src_test.close()\n",
    "tgt_test.close()\n",
    "src_val.close()\n",
    "tgt_val.close()"
   ]
  },
  {
   "cell_type": "code",
   "execution_count": 42,
   "metadata": {},
   "outputs": [],
   "source": [
    "# Create Vocabulary\n",
    "\n",
    "src = open('data_mix_in_correct/src.txt', 'r').read().split('\\n')[:-1]\n",
    "tgt = open('data_mix_in_correct/tgt.txt', 'r').read().split('\\n')[:-1]\n",
    "\n",
    "vocab = {}\n",
    "for i in range(len(src)):\n",
    "    ins = toWordLevel(src[i])\n",
    "    for word in ins:\n",
    "        if word in vocab:\n",
    "            vocab[word] += 1\n",
    "        else:\n",
    "            vocab[word] = 1\n",
    "    ins = toWordLevel(tgt[i])\n",
    "    for word in ins:\n",
    "        if word in vocab:\n",
    "            vocab[word] += 1\n",
    "        else:\n",
    "            vocab[word] = 1\n",
    "vocab_file = open('data_mix_in_correct/vocab.txt', 'w+')\n",
    "for key in vocab.keys():\n",
    "    print(key, file = vocab_file)\n",
    "vocab_file.close()"
   ]
  },
  {
   "cell_type": "code",
   "execution_count": 15,
   "metadata": {},
   "outputs": [],
   "source": []
  },
  {
   "cell_type": "code",
   "execution_count": 35,
   "metadata": {},
   "outputs": [],
   "source": [
    "didn_change.close()\n",
    "train_idx.close()\n",
    "test_idx.close()\n",
    "val_idx.close()"
   ]
  },
  {
   "cell_type": "code",
   "execution_count": null,
   "metadata": {},
   "outputs": [],
   "source": []
  }
 ],
 "metadata": {
  "kernelspec": {
   "display_name": "Python 3",
   "language": "python",
   "name": "python3"
  },
  "language_info": {
   "codemirror_mode": {
    "name": "ipython",
    "version": 3
   },
   "file_extension": ".py",
   "mimetype": "text/x-python",
   "name": "python",
   "nbconvert_exporter": "python",
   "pygments_lexer": "ipython3",
   "version": "3.7.3"
  }
 },
 "nbformat": 4,
 "nbformat_minor": 2
}

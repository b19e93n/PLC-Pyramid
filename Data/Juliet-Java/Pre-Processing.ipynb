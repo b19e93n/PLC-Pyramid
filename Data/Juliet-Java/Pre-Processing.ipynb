{
 "cells": [
  {
   "cell_type": "code",
   "execution_count": 3,
   "metadata": {},
   "outputs": [],
   "source": [
    "from shutil import copyfile\n",
    "import matplotlib.pyplot as plt\n",
    "import numpy as np\n",
    "import random"
   ]
  },
  {
   "cell_type": "code",
   "execution_count": 3,
   "metadata": {},
   "outputs": [],
   "source": [
    "files = open('index.txt', 'r').read().split('\\n')[:-1]\n",
    "# Cases labeled by certain numbers (2, 12, 13, 14, 15, 17, 81) are duplicated cases except for if condition, will have to be removed.\n",
    "# For cases with multiple files, we only use those ones with two parts.\n",
    "useful_idx = open('Useful_Index.txt', 'w+')\n",
    "for file in files:\n",
    "    if '81' not in file:\n",
    "        if file.split('/')[-1].split('.')[-2][-1].isalpha() and file.split('.')[-2][:-1] + 'c.' + file.split('.')[-1] not in files:\n",
    "            if file.split('.')[-2][:-1] + 'b.' + file.split('.')[-1] in files:\n",
    "                print('Juliet-Java-v103/' + file, file = useful_idx)\n",
    "        elif file.split('/')[-1].split('.')[-2][-2:].isnumeric():\n",
    "            if int(file.split('/')[-1].split('.')[-2][-2:]) not in [j for j in range(2, 12)] + [13, 14, 15, 17]:\n",
    "                print('Juliet-Java-v103/' + file, file = useful_idx)"
   ]
  },
  {
   "cell_type": "markdown",
   "metadata": {},
   "source": [
    "# Data Processing Functions"
   ]
  },
  {
   "cell_type": "code",
   "execution_count": 4,
   "metadata": {},
   "outputs": [],
   "source": [
    "def ExtractGoodAndBad(file):\n",
    "    f = open(file, 'r').read().split('\\n')\n",
    "    i = 0\n",
    "    good_lines = []\n",
    "    bad_lines = []\n",
    "    while i < len(f):\n",
    "        if ('private' in f[i].strip() or 'public' in f[i].strip()) and 'bad' in f[i].strip():\n",
    "            start = i\n",
    "            j = i\n",
    "            hit_zero = 1\n",
    "            count = 0\n",
    "            #find pairing parentathes\n",
    "            while hit_zero < 2:\n",
    "                count += f[j].count('{')\n",
    "                if '}' in f[j]:\n",
    "                    count -= f[j].count('}')\n",
    "                    if count == 0:\n",
    "                        hit_zero += 1\n",
    "                j += 1\n",
    "            end = j + 1\n",
    "            bad_lines.extend(f[start:end])\n",
    "            i = j\n",
    "        i += 1\n",
    "    # good code instances follows bad code instances\n",
    "    good_start = end\n",
    "    good_end = -1\n",
    "    i = good_start\n",
    "    while i < len(f):\n",
    "        # good code instances ends before the main() function\n",
    "        if '/* Below is the main().' in f[i].strip():\n",
    "            good_end = i\n",
    "        i += 1\n",
    "    if good_end != -1:\n",
    "        good_lines.extend(f[good_start:good_end])\n",
    "    return bad_lines, good_lines\n",
    "\n",
    "'''\n",
    "# One bad function may related to multiple good functions. Below is the list of all possible names of good functions\n",
    "good_func_list = {\n",
    "    'goodG2B',\n",
    "    'goodB2G',\n",
    "    'goodB2G1',\n",
    "    'goodB2G2',\n",
    "    'goodG2B',\n",
    "    'goodB2G1',\n",
    "    'goodB2G2',\n",
    "    'goodB2G',\n",
    "    'goodG2B',\n",
    "    'goodG2B1'   \n",
    "}\n",
    "'''\n",
    "\n",
    "def SplitGoodFunctions(good_lines):\n",
    "    #return a dictionary of good functions if there are several in one file\n",
    "    functions = {}\n",
    "    func_counter = 0\n",
    "    i = 0\n",
    "    while i < len(good_lines):\n",
    "        if ('private' in good_lines[i] or 'public' in good_lines[i]) and 'good' in good_lines[i]:\n",
    "            if i >= 1 and good_lines[i-1].strip()[:7] == '/* good':\n",
    "                if good_lines[i-1].strip() not in functions:\n",
    "                    func_counter += 1\n",
    "                    functions[good_lines[i-1].strip()] = []\n",
    "                curr_func = functions[good_lines[i-1].strip()]\n",
    "                j = i \n",
    "                start = j\n",
    "                count = 0\n",
    "                hit_zero = 1\n",
    "                while hit_zero < 2:\n",
    "                    count += good_lines[j].count('{')\n",
    "                    if '}' in good_lines[j]:\n",
    "                        count -= good_lines[j].count('}')\n",
    "                        if count == 0:\n",
    "                            hit_zero += 1\n",
    "                    j += 1\n",
    "                end = j\n",
    "                curr_func.extend(good_lines[start: end])\n",
    "                i = j\n",
    "        i += 1\n",
    "    return functions\n",
    "\n",
    "# remove comments in a function\n",
    "def RemoveComment(f):\n",
    "    out = []\n",
    "    for i in range(len(f)):\n",
    "        if len(f[i].strip()) > 2:\n",
    "            if f[i].strip()[:2] not in ['/*', '*/'] and f[i].strip()[0] != '*' and f[i].strip()[-2:] != '*/':\n",
    "                if '/*' in f[i]:\n",
    "                    out.append(f[i].split('/*')[0])\n",
    "                else:\n",
    "                    out.append(f[i])\n",
    "                \n",
    "        else:\n",
    "            out.append(f[i])\n",
    "    return '\\n'.join(out)\n",
    "\n",
    "# Remove redundant space\n",
    "def Cleaning(f):\n",
    "    syntax_list = ['{', '}', '(', ')', '=', '+', '-', ';', ',', '/', '!=', '==']\n",
    "    s = ' '.join((' '.join(f.split())).split())\n",
    "    for syntax in syntax_list:\n",
    "        s = s.replace(syntax + ' ', syntax)\n",
    "        s = s.replace(' ' + syntax, syntax)\n",
    "    return s\n"
   ]
  },
  {
   "cell_type": "code",
   "execution_count": 5,
   "metadata": {},
   "outputs": [],
   "source": [
    "useful_files = open('useful_index.txt').read().split('\\n')[:-1]"
   ]
  },
  {
   "cell_type": "markdown",
   "metadata": {},
   "source": [
    "# Test Functions"
   ]
  },
  {
   "cell_type": "code",
   "execution_count": 78,
   "metadata": {},
   "outputs": [
    {
     "name": "stdout",
     "output_type": "stream",
     "text": [
      "000/123/343/CWE113_HTTP_Response_Splitting__Environment_addCookieServlet_16.java\n",
      "['    public void bad(HttpServletRequest request, HttpServletResponse response) throws Throwable', '    {', '        String data;', '', '        while (true)', '        {', '            /* get environment variable ADD */', '            /* POTENTIAL FLAW: Read data from an environment variable */', '            data = System.getenv(\"ADD\");', '            break;', '        }', '', '        while (true)', '        {', '            if (data != null)', '            {', '                Cookie cookieSink = new Cookie(\"lang\", data);', '                /* POTENTIAL FLAW: Input not verified before inclusion in the cookie */', '                response.addCookie(cookieSink);', '            }', '            break;', '        }', '    }', '']\n"
     ]
    }
   ],
   "source": [
    "bad, good = ExtractGoodAndBad(useful_files[3])\n",
    "print(bad)"
   ]
  },
  {
   "cell_type": "code",
   "execution_count": 58,
   "metadata": {},
   "outputs": [
    {
     "name": "stdout",
     "output_type": "stream",
     "text": [
      "{'/* goodG2B() - use goodsource and badsink */': ['    private void goodG2B(HttpServletRequest request, HttpServletResponse response) throws Throwable', '    {', '        String data;', '', '        while (true)', '        {', '            /* FIX: Use a hardcoded string */', '            data = \"foo\";', '            break;', '        }', '', '        while (true)', '        {', '            if (data != null)', '            {', '                Cookie cookieSink = new Cookie(\"lang\", data);', '                /* POTENTIAL FLAW: Input not verified before inclusion in the cookie */', '                response.addCookie(cookieSink);', '            }', '            break;', '        }', '', '    }'], '/* goodB2G() - use badsource and goodsink */': ['    private void goodB2G(HttpServletRequest request, HttpServletResponse response) throws Throwable', '    {', '        String data;', '', '        while (true)', '        {', '            /* get environment variable ADD */', '            /* POTENTIAL FLAW: Read data from an environment variable */', '            data = System.getenv(\"ADD\");', '            break;', '        }', '', '        while (true)', '        {', '            if (data != null)', '            {', '                Cookie cookieSink = new Cookie(\"lang\", URLEncoder.encode(data, \"UTF-8\"));', '                /* FIX: use URLEncoder.encode to hex-encode non-alphanumerics */', '                response.addCookie(cookieSink);', '            }', '            break;', '        }', '    }']}\n"
     ]
    }
   ],
   "source": [
    "a = SplitGoodFunctions(good)\n",
    "print(a)"
   ]
  },
  {
   "cell_type": "code",
   "execution_count": 60,
   "metadata": {},
   "outputs": [
    {
     "name": "stdout",
     "output_type": "stream",
     "text": [
      "public void bad(HttpServletRequest request,HttpServletResponse response)throws Throwable{String data;while(true){data=System.getenv(\"ADD\");break;}while(true){if(data!=null){Cookie cookieSink=new Cookie(\"lang\",data);response.addCookie(cookieSink);}break;}}\n"
     ]
    }
   ],
   "source": [
    "print(Cleaning(RemoveComment(bad)))"
   ]
  },
  {
   "cell_type": "code",
   "execution_count": 61,
   "metadata": {},
   "outputs": [
    {
     "name": "stdout",
     "output_type": "stream",
     "text": [
      "private void goodG2B(HttpServletRequest request,HttpServletResponse response)throws Throwable{String data;while(true){data=\"foo\";break;}while(true){if(data!=null){Cookie cookieSink=new Cookie(\"lang\",data);response.addCookie(cookieSink);}break;}}\n",
      "private void goodB2G(HttpServletRequest request,HttpServletResponse response)throws Throwable{String data;while(true){data=System.getenv(\"ADD\");break;}while(true){if(data!=null){Cookie cookieSink=new Cookie(\"lang\",URLEncoder.encode(data,\"UTF-8\"));response.addCookie(cookieSink);}break;}}\n"
     ]
    }
   ],
   "source": [
    "for key in list(a.keys()):\n",
    "    print(Cleaning(RemoveComment(a[key])))"
   ]
  },
  {
   "cell_type": "markdown",
   "metadata": {},
   "source": [
    "# Write Data Files"
   ]
  },
  {
   "cell_type": "code",
   "execution_count": 6,
   "metadata": {},
   "outputs": [],
   "source": [
    "source_file = open('src_data.txt', 'w+')\n",
    "target_file = open('tgt_data.txt', 'w+')\n",
    "for i in range(len(useful_files)):\n",
    "    file = useful_files[i]\n",
    "    if file.split('.')[0][-1] == 'a':\n",
    "        bada, gooda = ExtractGoodAndBad(file)\n",
    "        badb, goodb = ExtractGoodAndBad(useful_files[i + 1])\n",
    "        bad, good = bada + badb, gooda + goodb\n",
    "        fname = file.split('/')[-1].split('.')[0][:-1]\n",
    "    elif file.split('.')[0][-1] == 'b':\n",
    "        continue\n",
    "    else:\n",
    "        bad, good = ExtractGoodAndBad(file)\n",
    "        fname = file.split('/')[-1].split('.')[0]\n",
    "    if len(good) > 0:\n",
    "        good_funcs = SplitGoodFunctions(good)\n",
    "        bad_cleaned = Cleaning(RemoveComment(bad)).replace(fname, '')\n",
    "        bad_cleaned = bad_cleaned.replace('bad', 'main')\n",
    "        for key in good_funcs.keys():\n",
    "            func_name = key.split()[1][:-2]\n",
    "            good_cleaned = Cleaning(RemoveComment(good_funcs[key])).replace(fname, '')\n",
    "            good_cleaned = good_cleaned.replace(func_name, 'main')\n",
    "            print(good_cleaned, file = target_file)\n",
    "            print(bad_cleaned, file = source_file)\n",
    "source_file.close()\n",
    "target_file.close()"
   ]
  },
  {
   "cell_type": "markdown",
   "metadata": {},
   "source": [
    "# Statistics"
   ]
  },
  {
   "cell_type": "code",
   "execution_count": 1,
   "metadata": {},
   "outputs": [
    {
     "name": "stdout",
     "output_type": "stream",
     "text": [
      "23519 23519\n"
     ]
    }
   ],
   "source": [
    "source = open('src_data.txt', 'r').read().split('\\n')\n",
    "target = open('tgt_data.txt', 'r').read().split('\\n')\n",
    "print(len(source), len(target))"
   ]
  },
  {
   "cell_type": "code",
   "execution_count": 8,
   "metadata": {},
   "outputs": [],
   "source": [
    "def toWordLevel(instance):\n",
    "    instance = ' '.join(instance.split())\n",
    "    parser_list_lv1 = ['==', '!=', '&&', '||', '<=', '>=', '>>', '<<']\n",
    "    parser_list_lv2 = ['!', ';', '=', '+', '-', '&', '%', '*', ':', '.', '|', '/', '(', ')', '{', '}', '[', ']', '<', '>', '\\'', '\\\"', ',', ' ']\n",
    "    \n",
    "    parselv1 = []\n",
    "    while len(instance) > 2:\n",
    "        i = 0\n",
    "        while True:\n",
    "            if instance[i:i+2] in parser_list_lv1:\n",
    "                if i != 0:\n",
    "                    parselv1.append(instance[:i])\n",
    "                parselv1.append(instance[i:i+2])\n",
    "                instance = instance[i+2:]\n",
    "                break\n",
    "            if i == len(instance):\n",
    "                parselv1.append(instance)\n",
    "                instance = ''\n",
    "                break\n",
    "            i += 1\n",
    "    parselv2 = []\n",
    "    for st in parselv1:\n",
    "        if st not in parser_list_lv1:\n",
    "            while len(st) > 0:\n",
    "                i = 0\n",
    "                while True:\n",
    "                    if i == len(st):\n",
    "                        parselv2.append(st)\n",
    "                        st = ''\n",
    "                        break\n",
    "                    if st[i] in parser_list_lv2:\n",
    "                        if i != 0:\n",
    "                            parselv2.append(st[:i])\n",
    "                        parselv2.append(st[i])\n",
    "                        st = st[i+1:]\n",
    "                        break\n",
    "                    i += 1\n",
    "        else:\n",
    "            parselv2.append(st)\n",
    "    return parselv2"
   ]
  },
  {
   "cell_type": "code",
   "execution_count": 9,
   "metadata": {},
   "outputs": [],
   "source": [
    "src_word = []\n",
    "tgt_word = []\n",
    "\n",
    "for instance in source:\n",
    "    src_word.append(toWordLevel(instance))\n",
    "    \n",
    "for instance in target:\n",
    "    tgt_word.append(toWordLevel(instance))"
   ]
  },
  {
   "cell_type": "code",
   "execution_count": 10,
   "metadata": {},
   "outputs": [
    {
     "data": {
      "image/png": "[encoded data removed]",
      "text/plain": [
       "<Figure size 432x288 with 1 Axes>"
      ]
     },
     "metadata": {
      "needs_background": "light"
     },
     "output_type": "display_data"
    },
    {
     "data": {
      "image/png": "[encoded data removed]",
      "text/plain": [
       "<Figure size 432x288 with 1 Axes>"
      ]
     },
     "metadata": {
      "needs_background": "light"
     },
     "output_type": "display_data"
    }
   ],
   "source": [
    "src_len = [len(src_word[i]) for i in range(len(src_word))]\n",
    "tgt_len = [len(tgt_word[i]) for i in range(len(tgt_word))]\n",
    "plt.hist(src_len, bins = 100)\n",
    "plt.xlabel('# of words')\n",
    "plt.ylabel('# of instances')\n",
    "plt.show()\n",
    "plt.hist(tgt_len, bins = 100)\n",
    "plt.xlabel('# of words')\n",
    "plt.ylabel('# of instances')\n",
    "plt.show()"
   ]
  },
  {
   "cell_type": "markdown",
   "metadata": {},
   "source": [
    "# Create Vocabulary"
   ]
  },
  {
   "cell_type": "code",
   "execution_count": 11,
   "metadata": {},
   "outputs": [
    {
     "name": "stdout",
     "output_type": "stream",
     "text": [
      "970\n",
      "['public', ' ', 'void', 'main', '(', 'HttpServletRequest', 'request', ',', 'HttpServletResponse', 'response']\n"
     ]
    }
   ],
   "source": [
    "vocab = {}\n",
    "for instance in src_word:\n",
    "    for word in instance:\n",
    "        if word in vocab: \n",
    "            vocab[word] += 1\n",
    "        else:\n",
    "            vocab[word] = 1\n",
    "            \n",
    "for instance in tgt_word:\n",
    "    for word in instance:\n",
    "        if word in vocab: \n",
    "            vocab[word] += 1\n",
    "        else:\n",
    "            vocab[word] = 1            \n",
    "print(len(vocab.keys()))\n",
    "print(list(vocab.keys())[:10])"
   ]
  },
  {
   "cell_type": "code",
   "execution_count": 12,
   "metadata": {},
   "outputs": [],
   "source": [
    "v_file = open('vocab.txt', 'w+')\n",
    "for word in vocab.keys():\n",
    "    print(word, file = v_file)\n",
    "v_file.close()"
   ]
  },
  {
   "cell_type": "markdown",
   "metadata": {},
   "source": [
    "# Create Cross_Validation dataset "
   ]
  },
  {
   "cell_type": "code",
   "execution_count": 11,
   "metadata": {},
   "outputs": [],
   "source": [
    "random.seed(42)\n",
    "order = random.sample([i for i in range(len(source))], len(source))"
   ]
  },
  {
   "cell_type": "code",
   "execution_count": 15,
   "metadata": {},
   "outputs": [],
   "source": [
    "k = 4\n",
    "for i in range(k):\n",
    "    test_set = order[i * len(order)//k : (i+1) * len(order)//k]\n",
    "    train_set = list(set(order) - set(test_set))\n",
    "    s_file_train = open('src_train%d.txt'%i, 'w+')\n",
    "    s_file_test = open('src_test%d.txt'%i, 'w+')\n",
    "    t_file_train = open('tgt_train%d.txt'%i, 'w+')\n",
    "    t_file_test = open('tgt_test%d.txt'%i, 'w+')\n",
    "    for n in train_set:\n",
    "        print(source[n], file = s_file_train)\n",
    "        print(target[n], file = t_file_train)\n",
    "    for n in test_set:\n",
    "        print(source[n], file = s_file_test)\n",
    "        print(target[n], file = t_file_test)\n",
    "    s_file_train.close()\n",
    "    s_file_test.close()\n",
    "    t_file_train.close()\n",
    "    t_file_test.close()"
   ]
  },
  {
   "cell_type": "code",
   "execution_count": 17,
   "metadata": {},
   "outputs": [
    {
     "name": "stdout",
     "output_type": "stream",
     "text": [
      "0.056407928466796875\n"
     ]
    }
   ],
   "source": []
  },
  {
   "cell_type": "code",
   "execution_count": null,
   "metadata": {},
   "outputs": [],
   "source": []
  }
 ],
 "metadata": {
  "kernelspec": {
   "display_name": "Python 3",
   "language": "python",
   "name": "python3"
  },
  "language_info": {
   "codemirror_mode": {
    "name": "ipython",
    "version": 3
   },
   "file_extension": ".py",
   "mimetype": "text/x-python",
   "name": "python",
   "nbconvert_exporter": "python",
   "pygments_lexer": "ipython3",
   "version": "3.7.3"
  }
 },
 "nbformat": 4,
 "nbformat_minor": 4
}

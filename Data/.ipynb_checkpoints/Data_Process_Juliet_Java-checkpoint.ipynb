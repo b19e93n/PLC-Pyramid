{
 "cells": [
  {
   "cell_type": "code",
   "execution_count": 1,
   "metadata": {},
   "outputs": [],
   "source": [
    "import numpy as np\n",
    "import time\n",
    "import matplotlib.pyplot as plt\n",
    "import random"
   ]
  },
  {
   "cell_type": "code",
   "execution_count": 2,
   "metadata": {},
   "outputs": [],
   "source": [
    "file_list = open('index_Java.txt', 'r').read().split('\\n')[:-1]"
   ]
  },
  {
   "cell_type": "code",
   "execution_count": 3,
   "metadata": {},
   "outputs": [],
   "source": [
    "def deletecomment(string):\n",
    "    if '/*' not in string:\n",
    "        return string\n",
    "    comment_start = string.find('/*')\n",
    "    comment_end = string.find('*/')\n",
    "    return deletecomment(string[:comment_start] + string[comment_end + 2:])\n",
    "\n",
    "def findline(lines, target_string, num_line = 0):\n",
    "    if num_line == len(lines):\n",
    "        return -1\n",
    "    if target_string in lines[num_line]:\n",
    "        return num_line\n",
    "    else:\n",
    "        return findline(lines, target_string, num_line + 1)\n",
    "\n",
    "def findfunctionend(lines, count, num_line):\n",
    "    count += lines[num_line].count('{')\n",
    "    count -= lines[num_line].count('}')\n",
    "    if count == 0:\n",
    "        return num_line\n",
    "    return findfunctionend(lines, count, num_line + 1)\n",
    "    \n",
    "def extractfunction(lines, start_line):\n",
    "    end_line = findfunctionend(lines, 0, start_line)\n",
    "    return lines[start_line + 1 : end_line]\n",
    "\n",
    "def cleanupfunction(function):\n",
    "    function = [line.lstrip() for line in function]\n",
    "    function = ''.join(function)\n",
    "    signs = ['=', '+', '-', '*', '/', '!=', '==']\n",
    "    for sign in signs:\n",
    "        function = function.replace(' ' + sign + ' ', sign)\n",
    "    function = function.replace('if ', 'if')\n",
    "    function = function.replace(' (', '(')\n",
    "    function = function.replace(' )', ')')\n",
    "    function = function.replace(', ', ',')\n",
    "    function = function.replace(' }', '}')\n",
    "    \n",
    "    return function\n",
    "\n",
    "def findallline(lines, target_string, current_line = 0, num_lines = []):\n",
    "    if current_line == len(lines):\n",
    "        return num_lines\n",
    "    if target_string in lines[current_line]:\n",
    "        num_lines.append(current_line)\n",
    "    return findallline(lines, target_string, current_line + 1, num_lines)\n",
    "\n",
    "def toWordLevel(instance):\n",
    "    instance = ' '.join(instance.split())\n",
    "    parser_list_lv1 = ['==', '!=', '&&', '||', '<=', '>=', '__']\n",
    "    parser_list_lv2 = ['!', ';', '=', '+', '-', '&', '%', '*', ':', '.', '|', '/', '(', ')', '{', '}', '[', ']', '<', '>', '\\'', '\\\"', ',', '_', ' ']\n",
    "    \n",
    "    parselv1 = []\n",
    "    while len(instance) > 2:\n",
    "        i = 0\n",
    "        while True:\n",
    "            if instance[i:i+2] in parser_list_lv1:\n",
    "                if i != 0:\n",
    "                    parselv1.append(instance[:i])\n",
    "                parselv1.append(instance[i:i+2])\n",
    "                instance = instance[i+2:]\n",
    "                break\n",
    "            if i == len(instance):\n",
    "                parselv1.append(instance)\n",
    "                instance = ''\n",
    "                break\n",
    "            i += 1\n",
    "    parselv2 = []\n",
    "    for st in parselv1:\n",
    "        if st not in parser_list_lv1:\n",
    "            while len(st) > 0:\n",
    "                i = 0\n",
    "                while True:\n",
    "                    if i == len(st):\n",
    "                        parselv2.append(st)\n",
    "                        st = ''\n",
    "                        break\n",
    "                    if st[i] in parser_list_lv2:\n",
    "                        if i != 0:\n",
    "                            parselv2.append(st[:i])\n",
    "                        parselv2.append(st[i])\n",
    "                        st = st[i+1:]\n",
    "                        break\n",
    "                    i += 1\n",
    "        else:\n",
    "            parselv2.append(st)\n",
    "    return parselv2\n",
    "\n",
    "def case1(f, good_start):\n",
    "    #case when there is a function of \"public void good\"\n",
    "    good_list = extractfunction(f, good_start)\n",
    "    if len(good_list) > 0:\n",
    "        good_name = []\n",
    "        for line in good_list:\n",
    "            name_end = line.find('(')\n",
    "            name_start = line.find('g')\n",
    "            good_name.append(line[name_start:name_end])\n",
    "        good_funcs = []\n",
    "        for name in good_name:\n",
    "            start = findline(f, 'private void ' + name) + 1\n",
    "            func = extractfunction(f, start)\n",
    "            func = cleanupfunction(func)\n",
    "            func = func.replace(name, 'F')\n",
    "            good_funcs.append(func)\n",
    "        return good_funcs"
   ]
  },
  {
   "cell_type": "code",
   "execution_count": 4,
   "metadata": {},
   "outputs": [
    {
     "name": "stdout",
     "output_type": "stream",
     "text": [
      "now processing [46176/46177]\n",
      "time elapsed 78.81\n",
      "good files: [28440/46177]\n",
      "number of pairs: 66495\n"
     ]
    }
   ],
   "source": [
    "s_file = open('Java_Processed/src_600.txt', 'w+')\n",
    "t_file = open('Java_Processed/tgt_600.txt', 'w+')\n",
    "s_train = open('Java_Processed/src_train.txt', 'w+')\n",
    "s_test = open('Java_Processed/src_test.txt', 'w+')\n",
    "s_val = open('Java_Processed/src_val.txt', 'w+')\n",
    "t_train = open('Java_Processed/tgt_train.txt', 'w+')\n",
    "t_test = open('Java_Processed/tgt_test.txt', 'w+')\n",
    "t_val = open('Java_Processed/tgt_val.txt', 'w+')\n",
    "\n",
    "didn_change = open('Java_Processed/index_good-good-pair.txt', 'w+')\n",
    "\n",
    "pairs = 0\n",
    "good_files = 0\n",
    "src_lengths = []\n",
    "tgt_lengths = []\n",
    "start_time = time.time()\n",
    "for i in range(len(file_list)):\n",
    "#for i in range(10):\n",
    "    print('now processing [%d/%d]'%(i, len(file_list)), end = '\\r')\n",
    "    file = open(file_list[i], 'r')\n",
    "    f = file.read()\n",
    "    f = deletecomment(f)\n",
    "    f = f.split('\\n')\n",
    "    good_start = findline(f, 'public void good(') + 1\n",
    "    bad_start = findline(f, 'public void bad') + 1\n",
    "    if bad_start > 0:\n",
    "        bad_function = extractfunction(f, bad_start)\n",
    "        bad_function = cleanupfunction(bad_function)\n",
    "        bad_function = bad_function.replace('bad', 'F')\n",
    "        ins = toWordLevel(bad_function)\n",
    "        if len(ins) < 600:\n",
    "            if good_start > 0:\n",
    "                rnd = random.random()\n",
    "                good_files += 1\n",
    "                good_cleaned = case1(f, good_start)\n",
    "                for j in range(len(good_cleaned)):\n",
    "                    ins = toWordLevel(good_cleaned[j])\n",
    "                    if len(ins) < 600:\n",
    "                        print(bad_function, file = s_file)\n",
    "                        print(good_cleaned[j], file = t_file)\n",
    "                        rnd2 = random.random()\n",
    "                        if rnd2 < 0.3:\n",
    "                            bad_function2 = good_cleaned[j]\n",
    "                            print(pairs, file = didn_change)\n",
    "                        else:\n",
    "                            bad_function2 = bad_function\n",
    "                        pairs += 1\n",
    "                        if rnd < 0.9:\n",
    "                            print(bad_function2, file = s_train)\n",
    "                            print(good_cleaned[j], file = t_train)\n",
    "                        elif rnd >= 0.9 and rnd < 0.95:\n",
    "                            print(bad_function2, file = s_test)\n",
    "                            print(good_cleaned[j], file = t_test)\n",
    "                        else:\n",
    "                            print(bad_function2, file = s_val)\n",
    "                            print(good_cleaned[j], file = t_val)\n",
    "    file.close()\n",
    "print()\n",
    "print('time elapsed %.2f'%(time.time() - start_time))\n",
    "print('good files: [%d/%d]'%(good_files, len(file_list)))\n",
    "print('number of pairs: %d'%pairs)\n",
    "\n",
    "s_file.close()\n",
    "t_file.close()\n",
    "s_train.close()\n",
    "t_train.close()\n",
    "s_test.close()\n",
    "t_test.close()\n",
    "s_val.close()\n",
    "t_val.close()"
   ]
  },
  {
   "cell_type": "code",
   "execution_count": 5,
   "metadata": {},
   "outputs": [
    {
     "name": "stdout",
     "output_type": "stream",
     "text": [
      "[66494/66495]\r"
     ]
    }
   ],
   "source": [
    "src = open('Java_Processed/src_600.txt', 'r').read().split('\\n')[:-1]\n",
    "src_lengths = []\n",
    "for i in range(len(src)):\n",
    "    print('[%d/%d]'%(i, len(src)), end = '\\r')\n",
    "    ins = toWordLevel(src[i])\n",
    "    src_lengths.append(len(ins))"
   ]
  },
  {
   "cell_type": "code",
   "execution_count": 6,
   "metadata": {},
   "outputs": [
    {
     "name": "stdout",
     "output_type": "stream",
     "text": [
      "[66494/66495]\r"
     ]
    }
   ],
   "source": [
    "tgt = open('Java_Processed/tgt_600.txt', 'r').read().split('\\n')[:-1]\n",
    "tgt_lengths = []\n",
    "for i in range(len(tgt)):\n",
    "    print('[%d/%d]'%(i, len(tgt)), end = '\\r')\n",
    "    ins = toWordLevel(tgt[i])\n",
    "    tgt_lengths.append(len(ins))"
   ]
  },
  {
   "cell_type": "code",
   "execution_count": 7,
   "metadata": {},
   "outputs": [
    {
     "data": {
      "image/png": "[encoded data removed]",
      "text/plain": [
       "<Figure size 432x288 with 1 Axes>"
      ]
     },
     "metadata": {
      "needs_background": "light"
     },
     "output_type": "display_data"
    },
    {
     "data": {
      "image/png": "[encoded data removed]",
      "text/plain": [
       "<Figure size 432x288 with 1 Axes>"
      ]
     },
     "metadata": {
      "needs_background": "light"
     },
     "output_type": "display_data"
    }
   ],
   "source": [
    "plt.hist(src_lengths, bins = 100)\n",
    "plt.show()\n",
    "plt.hist(tgt_lengths, bins = 100)\n",
    "plt.show()"
   ]
  },
  {
   "cell_type": "code",
   "execution_count": 9,
   "metadata": {},
   "outputs": [
    {
     "name": "stdout",
     "output_type": "stream",
     "text": [
      "1237\n"
     ]
    }
   ],
   "source": [
    "# Create Vocabulary\n",
    "\n",
    "src = open('Java_processed/src_600.txt', 'r').read().split('\\n')[:-1]\n",
    "tgt = open('Java_processed/tgt_600.txt', 'r').read().split('\\n')[:-1]\n",
    "\n",
    "vocab = {}\n",
    "for i in range(len(src)):\n",
    "    ins = toWordLevel(src[i])\n",
    "    for word in ins:\n",
    "        if word in vocab:\n",
    "            vocab[word] += 1\n",
    "        else:\n",
    "            vocab[word] = 1\n",
    "    ins = toWordLevel(tgt[i])\n",
    "    for word in ins:\n",
    "        if word in vocab:\n",
    "            vocab[word] += 1\n",
    "        else:\n",
    "            vocab[word] = 1\n",
    "vocab_file = open('Java_Processed/vocab.txt', 'w+')\n",
    "for key in vocab.keys():\n",
    "    print(key, file = vocab_file)\n",
    "vocab_file.close()\n",
    "print(len(vocab))"
   ]
  },
  {
   "cell_type": "code",
   "execution_count": null,
   "metadata": {},
   "outputs": [],
   "source": []
  }
 ],
 "metadata": {
  "kernelspec": {
   "display_name": "Python 3",
   "language": "python",
   "name": "python3"
  },
  "language_info": {
   "codemirror_mode": {
    "name": "ipython",
    "version": 3
   },
   "file_extension": ".py",
   "mimetype": "text/x-python",
   "name": "python",
   "nbconvert_exporter": "python",
   "pygments_lexer": "ipython3",
   "version": "3.7.3"
  }
 },
 "nbformat": 4,
 "nbformat_minor": 2
}
